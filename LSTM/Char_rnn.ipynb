{
 "cells": [
  {
   "cell_type": "code",
   "execution_count": 1,
   "metadata": {},
   "outputs": [
    {
     "name": "stderr",
     "output_type": "stream",
     "text": [
      "Using TensorFlow backend.\n",
      "/Users/zhaoxiaoxiang/anaconda3/lib/python3.7/site-packages/tensorflow/python/framework/dtypes.py:526: FutureWarning: Passing (type, 1) or '1type' as a synonym of type is deprecated; in a future version of numpy, it will be understood as (type, (1,)) / '(1,)type'.\n",
      "  _np_qint8 = np.dtype([(\"qint8\", np.int8, 1)])\n",
      "/Users/zhaoxiaoxiang/anaconda3/lib/python3.7/site-packages/tensorflow/python/framework/dtypes.py:527: FutureWarning: Passing (type, 1) or '1type' as a synonym of type is deprecated; in a future version of numpy, it will be understood as (type, (1,)) / '(1,)type'.\n",
      "  _np_quint8 = np.dtype([(\"quint8\", np.uint8, 1)])\n",
      "/Users/zhaoxiaoxiang/anaconda3/lib/python3.7/site-packages/tensorflow/python/framework/dtypes.py:528: FutureWarning: Passing (type, 1) or '1type' as a synonym of type is deprecated; in a future version of numpy, it will be understood as (type, (1,)) / '(1,)type'.\n",
      "  _np_qint16 = np.dtype([(\"qint16\", np.int16, 1)])\n",
      "/Users/zhaoxiaoxiang/anaconda3/lib/python3.7/site-packages/tensorflow/python/framework/dtypes.py:529: FutureWarning: Passing (type, 1) or '1type' as a synonym of type is deprecated; in a future version of numpy, it will be understood as (type, (1,)) / '(1,)type'.\n",
      "  _np_quint16 = np.dtype([(\"quint16\", np.uint16, 1)])\n",
      "/Users/zhaoxiaoxiang/anaconda3/lib/python3.7/site-packages/tensorflow/python/framework/dtypes.py:530: FutureWarning: Passing (type, 1) or '1type' as a synonym of type is deprecated; in a future version of numpy, it will be understood as (type, (1,)) / '(1,)type'.\n",
      "  _np_qint32 = np.dtype([(\"qint32\", np.int32, 1)])\n",
      "/Users/zhaoxiaoxiang/anaconda3/lib/python3.7/site-packages/tensorflow/python/framework/dtypes.py:535: FutureWarning: Passing (type, 1) or '1type' as a synonym of type is deprecated; in a future version of numpy, it will be understood as (type, (1,)) / '(1,)type'.\n",
      "  np_resource = np.dtype([(\"resource\", np.ubyte, 1)])\n"
     ]
    }
   ],
   "source": [
    "import numpy\n",
    "from keras.models import Sequential\n",
    "from keras.layers import Dense\n",
    "from keras.layers import Dropout\n",
    "from keras.layers import LSTM\n",
    "from keras.callbacks import ModelCheckpoint\n",
    "from keras.utils import np_utils"
   ]
  },
  {
   "cell_type": "code",
   "execution_count": 2,
   "metadata": {},
   "outputs": [],
   "source": [
    "raw_text = open('/Users/zhaoxiaoxiang/kaggle/七月在线/class6/代码及资料/Winston_Churchil.txt').read()\n",
    "raw_text = raw_text.lower()"
   ]
  },
  {
   "cell_type": "code",
   "execution_count": 3,
   "metadata": {},
   "outputs": [],
   "source": [
    "chars = sorted(list(set(raw_text)))\n",
    "char_to_int = dict((c, i) for i, c in enumerate(chars))\n",
    "int_to_char = dict((i, c) for i, c in enumerate(chars))"
   ]
  },
  {
   "cell_type": "code",
   "execution_count": 4,
   "metadata": {},
   "outputs": [],
   "source": [
    "# create train and test dataset\n",
    "seq_length = 100\n",
    "x = []\n",
    "y = []\n",
    "for i in range(0, len(raw_text) - seq_length):\n",
    "    given = raw_text[i:i + seq_length]\n",
    "    predict = raw_text[i + seq_length]\n",
    "    x.append([char_to_int[char] for char in given])\n",
    "    y.append(char_to_int[predict])"
   ]
  },
  {
   "cell_type": "code",
   "execution_count": 5,
   "metadata": {},
   "outputs": [
    {
     "name": "stdout",
     "output_type": "stream",
     "text": [
      "[[60, 45, 47, 44, 39, 34, 32, 49, 1, 36, 50, 49, 34, 43, 31, 34, 47, 36, 57, 48, 1, 47, 34, 30, 41, 1, 48, 44, 41, 33, 38, 34, 47, 48, 1, 44, 35, 1, 35, 44, 47, 49, 50, 43, 34, 9, 1, 31, 54, 1, 47, 38, 32, 37, 30, 47, 33, 1, 37, 30, 47, 33, 38, 43, 36, 1, 33, 30, 51, 38, 48, 0, 0, 49, 37, 38, 48, 1, 34, 31, 44, 44, 40, 1, 38, 48, 1, 35, 44, 47, 1, 49, 37, 34, 1, 50, 48, 34, 1, 44], [45, 47, 44, 39, 34, 32, 49, 1, 36, 50, 49, 34, 43, 31, 34, 47, 36, 57, 48, 1, 47, 34, 30, 41, 1, 48, 44, 41, 33, 38, 34, 47, 48, 1, 44, 35, 1, 35, 44, 47, 49, 50, 43, 34, 9, 1, 31, 54, 1, 47, 38, 32, 37, 30, 47, 33, 1, 37, 30, 47, 33, 38, 43, 36, 1, 33, 30, 51, 38, 48, 0, 0, 49, 37, 38, 48, 1, 34, 31, 44, 44, 40, 1, 38, 48, 1, 35, 44, 47, 1, 49, 37, 34, 1, 50, 48, 34, 1, 44, 35], [47, 44, 39, 34, 32, 49, 1, 36, 50, 49, 34, 43, 31, 34, 47, 36, 57, 48, 1, 47, 34, 30, 41, 1, 48, 44, 41, 33, 38, 34, 47, 48, 1, 44, 35, 1, 35, 44, 47, 49, 50, 43, 34, 9, 1, 31, 54, 1, 47, 38, 32, 37, 30, 47, 33, 1, 37, 30, 47, 33, 38, 43, 36, 1, 33, 30, 51, 38, 48, 0, 0, 49, 37, 38, 48, 1, 34, 31, 44, 44, 40, 1, 38, 48, 1, 35, 44, 47, 1, 49, 37, 34, 1, 50, 48, 34, 1, 44, 35, 1]]\n",
      "[35, 1, 30]\n"
     ]
    }
   ],
   "source": [
    "print(x[:3])\n",
    "print(y[:3])"
   ]
  },
  {
   "cell_type": "code",
   "execution_count": 6,
   "metadata": {},
   "outputs": [
    {
     "name": "stdout",
     "output_type": "stream",
     "text": [
      "[[0.80327869]\n",
      " [0.55737705]\n",
      " [0.70491803]\n",
      " [0.50819672]\n",
      " [0.55737705]\n",
      " [0.7704918 ]\n",
      " [0.59016393]\n",
      " [0.93442623]\n",
      " [0.78688525]\n",
      " [0.01639344]\n",
      " [0.7704918 ]\n",
      " [0.55737705]\n",
      " [0.49180328]\n",
      " [0.67213115]\n",
      " [0.01639344]\n",
      " [0.78688525]\n",
      " [0.72131148]\n",
      " [0.67213115]\n",
      " [0.54098361]\n",
      " [0.62295082]\n",
      " [0.55737705]\n",
      " [0.7704918 ]\n",
      " [0.78688525]\n",
      " [0.01639344]\n",
      " [0.72131148]\n",
      " [0.57377049]\n",
      " [0.01639344]\n",
      " [0.57377049]\n",
      " [0.72131148]\n",
      " [0.7704918 ]\n",
      " [0.80327869]\n",
      " [0.81967213]\n",
      " [0.70491803]\n",
      " [0.55737705]\n",
      " [0.14754098]\n",
      " [0.01639344]\n",
      " [0.50819672]\n",
      " [0.8852459 ]\n",
      " [0.01639344]\n",
      " [0.7704918 ]\n",
      " [0.62295082]\n",
      " [0.52459016]\n",
      " [0.60655738]\n",
      " [0.49180328]\n",
      " [0.7704918 ]\n",
      " [0.54098361]\n",
      " [0.01639344]\n",
      " [0.60655738]\n",
      " [0.49180328]\n",
      " [0.7704918 ]\n",
      " [0.54098361]\n",
      " [0.62295082]\n",
      " [0.70491803]\n",
      " [0.59016393]\n",
      " [0.01639344]\n",
      " [0.54098361]\n",
      " [0.49180328]\n",
      " [0.83606557]\n",
      " [0.62295082]\n",
      " [0.78688525]\n",
      " [0.        ]\n",
      " [0.        ]\n",
      " [0.80327869]\n",
      " [0.60655738]\n",
      " [0.62295082]\n",
      " [0.78688525]\n",
      " [0.01639344]\n",
      " [0.55737705]\n",
      " [0.50819672]\n",
      " [0.72131148]\n",
      " [0.72131148]\n",
      " [0.6557377 ]\n",
      " [0.01639344]\n",
      " [0.62295082]\n",
      " [0.78688525]\n",
      " [0.01639344]\n",
      " [0.57377049]\n",
      " [0.72131148]\n",
      " [0.7704918 ]\n",
      " [0.01639344]\n",
      " [0.80327869]\n",
      " [0.60655738]\n",
      " [0.55737705]\n",
      " [0.01639344]\n",
      " [0.81967213]\n",
      " [0.78688525]\n",
      " [0.55737705]\n",
      " [0.01639344]\n",
      " [0.72131148]\n",
      " [0.57377049]\n",
      " [0.01639344]\n",
      " [0.49180328]\n",
      " [0.70491803]\n",
      " [0.8852459 ]\n",
      " [0.72131148]\n",
      " [0.70491803]\n",
      " [0.55737705]\n",
      " [0.01639344]\n",
      " [0.49180328]\n",
      " [0.70491803]]\n",
      "[0. 0. 0. 0. 0. 0. 0. 0. 0. 0. 0. 0. 0. 0. 0. 0. 0. 0. 0. 0. 0. 0. 0. 0.\n",
      " 0. 0. 0. 0. 0. 0. 0. 0. 0. 0. 0. 0. 0. 0. 0. 0. 0. 0. 0. 0. 0. 0. 0. 0.\n",
      " 0. 0. 0. 0. 0. 0. 1. 0. 0. 0. 0. 0.]\n"
     ]
    }
   ],
   "source": [
    "# change to LSTM mode number，time step，feature\n",
    "n_patterns = len(x)\n",
    "n_vocab = len(chars)\n",
    "\n",
    "x = numpy.reshape(x, (n_patterns, seq_length, 1))\n",
    "# normalize\n",
    "x = x / float(n_vocab)\n",
    "# one-hot\n",
    "y = np_utils.to_categorical(y)\n",
    "\n",
    "print(x[11])\n",
    "print(y[11])"
   ]
  },
  {
   "cell_type": "code",
   "execution_count": 8,
   "metadata": {},
   "outputs": [],
   "source": [
    "model = Sequential()\n",
    "model.add(LSTM(128, input_shape=(x.shape[1], x.shape[2])))\n",
    "model.add(Dropout(0.2))\n",
    "model.add(Dense(y.shape[1], activation='softmax'))\n",
    "model.compile(loss='categorical_crossentropy', optimizer='adam')\n"
   ]
  },
  {
   "cell_type": "code",
   "execution_count": null,
   "metadata": {},
   "outputs": [
    {
     "name": "stdout",
     "output_type": "stream",
     "text": [
      "WARNING:tensorflow:From /Users/zhaoxiaoxiang/anaconda3/lib/python3.7/site-packages/tensorflow/python/ops/math_ops.py:3066: to_int32 (from tensorflow.python.ops.math_ops) is deprecated and will be removed in a future version.\n",
      "Instructions for updating:\n",
      "Use tf.cast instead.\n"
     ]
    },
    {
     "name": "stderr",
     "output_type": "stream",
     "text": [
      "/Users/zhaoxiaoxiang/anaconda3/lib/python3.7/site-packages/ipykernel_launcher.py:1: UserWarning: The `nb_epoch` argument in `fit` has been renamed `epochs`.\n",
      "  \"\"\"Entry point for launching an IPython kernel.\n"
     ]
    },
    {
     "name": "stdout",
     "output_type": "stream",
     "text": [
      "Epoch 1/10\n",
      "160960/276730 [================>.............] - ETA: 15:17 - loss: 2.9129"
     ]
    }
   ],
   "source": [
    "model.fit(x, y, nb_epoch=10, batch_size=32)"
   ]
  },
  {
   "cell_type": "code",
   "execution_count": null,
   "metadata": {},
   "outputs": [],
   "source": [
    "def predict_next(input_array):\n",
    "    x = numpy.reshape(input_array, (1, seq_length, 1))\n",
    "    x = x / float(n_vocab)\n",
    "    y = model.predict(x)\n",
    "    return y\n",
    "\n",
    "def string_to_index(raw_input):\n",
    "    res = []\n",
    "    for c in raw_input[(len(raw_input)-seq_length):]:\n",
    "        res.append(char_to_int[c])\n",
    "    return res\n",
    "\n",
    "def y_to_char(y):\n",
    "    largest_index = y.argmax()\n",
    "    c = int_to_char[largest_index]\n",
    "    return c"
   ]
  },
  {
   "cell_type": "code",
   "execution_count": null,
   "metadata": {},
   "outputs": [],
   "source": [
    "def generate_article(init, rounds=500):\n",
    "    in_string = init.lower()\n",
    "    for i in range(rounds):\n",
    "        n = y_to_char(predict_next(string_to_index(in_string)))\n",
    "        in_string += n\n",
    "    return in_string"
   ]
  },
  {
   "cell_type": "code",
   "execution_count": null,
   "metadata": {},
   "outputs": [],
   "source": [
    "init = 'Professor Michael S. Hart is the originator of the Project'\n",
    "article = generate_article(init)\n",
    "print(article)"
   ]
  }
 ],
 "metadata": {
  "kernelspec": {
   "display_name": "Python 3",
   "language": "python",
   "name": "python3"
  },
  "language_info": {
   "codemirror_mode": {
    "name": "ipython",
    "version": 3
   },
   "file_extension": ".py",
   "mimetype": "text/x-python",
   "name": "python",
   "nbconvert_exporter": "python",
   "pygments_lexer": "ipython3",
   "version": "3.7.1"
  }
 },
 "nbformat": 4,
 "nbformat_minor": 2
}
